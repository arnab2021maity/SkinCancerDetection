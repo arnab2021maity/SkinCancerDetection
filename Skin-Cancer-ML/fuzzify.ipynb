{
 "cells": [
  {
   "cell_type": "code",
   "execution_count": 1,
   "id": "4907641f",
   "metadata": {},
   "outputs": [
    {
     "name": "stdout",
     "output_type": "stream",
     "text": [
      "Requirement already satisfied: scikit-fuzzy in c:\\users\\dell\\anaconda3\\lib\\site-packages (0.5.0)\n"
     ]
    }
   ],
   "source": [
    "!pip install scikit-fuzzy"
   ]
  },
  {
   "cell_type": "code",
   "execution_count": 2,
   "id": "83162a3b",
   "metadata": {},
   "outputs": [],
   "source": [
    "import numpy as np\n",
    "import pandas as pd\n",
    "import os\n",
    "from tensorflow.keras.models import load_model\n",
    "from tensorflow.keras.preprocessing.image import load_img, img_to_array\n",
    "from sklearn.preprocessing import StandardScaler, LabelEncoder\n",
    "from tensorflow.keras.utils import to_categorical\n",
    "import skfuzzy as fuzz\n",
    "from skfuzzy import control as ctrl\n",
    "import matplotlib.pyplot as plt\n",
    "\n",
    "# ---------- Load Gene Expression Model ----------\n",
    "gene_model = load_model('best_gene_model.h5')  # Ensure this matches gene model path\n",
    "\n",
    "# ---------- Load Gene Data ----------\n",
    "df_raw = pd.read_excel('C:\\\\Users\\\\Dell\\\\Downloads\\\\GSE7553.XLSX', sheet_name='Sheet1', index_col=0)\n",
    "df = df_raw.transpose()\n",
    "X = df.astype(float).values\n",
    "y_raw = [label.split('.')[0] for label in df_raw.columns]\n",
    "\n",
    "encoder = LabelEncoder()\n",
    "y = encoder.fit_transform(y_raw)\n",
    "y_encoded = to_categorical(y)\n",
    "\n",
    "scaler = StandardScaler()\n",
    "X_scaled = scaler.fit_transform(X)"
   ]
  },
  {
   "cell_type": "code",
   "execution_count": 3,
   "id": "50a74614",
   "metadata": {},
   "outputs": [
    {
     "name": "stdout",
     "output_type": "stream",
     "text": [
      "Class names found: ['actinic keratosis', 'basal cell carcinoma', 'dermatofibroma', 'melanoma', 'nevus', 'pigmented benign keratosis', 'seborrheic keratosis', 'squamous cell carcinoma', 'vascular lesion']\n"
     ]
    }
   ],
   "source": [
    "# Load the trained model\n",
    "image_model = load_model('best_testify_model.h5')  # Ensure this file is in your working directory or give full path\n",
    "\n",
    "# Use the exact correct path to the training folder\n",
    "train_dir = r\"C:\\Users\\DELL\\Downloads\\Skin cancer ISIC The International Skin Imaging Collaboration\\Train\"\n",
    "\n",
    "# Check if the path exists before using it\n",
    "if not os.path.exists(train_dir):\n",
    "    raise FileNotFoundError(f\"Directory not found: {train_dir}\")\n",
    "\n",
    "# Get the list of class names (folder names inside Train)\n",
    "class_names = sorted([\n",
    "    d for d in os.listdir(train_dir)\n",
    "    if os.path.isdir(os.path.join(train_dir, d))\n",
    "])\n",
    "\n",
    "print(\"Class names found:\", class_names)"
   ]
  },
  {
   "cell_type": "code",
   "execution_count": 4,
   "id": "a2525deb",
   "metadata": {},
   "outputs": [],
   "source": [
    "def fuzzy_fuse(image_score, gene_score):\n",
    "    def triangular_membership(x, a, b, c):\n",
    "        if x <= a or x >= c:\n",
    "            return 0\n",
    "        elif a < x <= b:\n",
    "            return (x - a) / (b - a)\n",
    "        else:  # b < x < c\n",
    "            return (c - x) / (c - b)\n",
    "\n",
    "    def fuzzify_confidence(score):\n",
    "        return {\n",
    "            \"low\": triangular_membership(score, 0.0, 0.2, 0.4),\n",
    "            \"medium\": triangular_membership(score, 0.3, 0.5, 0.7),\n",
    "            \"high\": triangular_membership(score, 0.6, 0.8, 1.0)\n",
    "        }\n",
    "\n",
    "    def apply_rules(image_fuzzy, gene_fuzzy):\n",
    "        return {\n",
    "            \"low\": max(\n",
    "                min(image_fuzzy[\"low\"], gene_fuzzy[\"low\"]),\n",
    "                min(image_fuzzy[\"low\"], gene_fuzzy[\"medium\"]),\n",
    "                min(image_fuzzy[\"medium\"], gene_fuzzy[\"low\"])\n",
    "            ),\n",
    "            \"medium\": max(\n",
    "                min(image_fuzzy[\"medium\"], gene_fuzzy[\"medium\"]),\n",
    "                min(image_fuzzy[\"high\"], gene_fuzzy[\"low\"]),\n",
    "                min(image_fuzzy[\"low\"], gene_fuzzy[\"high\"])\n",
    "            ),\n",
    "            \"high\": max(\n",
    "                min(image_fuzzy[\"high\"], gene_fuzzy[\"high\"]),\n",
    "                min(image_fuzzy[\"medium\"], gene_fuzzy[\"high\"]),\n",
    "                min(image_fuzzy[\"high\"], gene_fuzzy[\"medium\"])\n",
    "            )\n",
    "        }\n",
    "\n",
    "    def defuzzify(rules):\n",
    "        output_values = {\"low\": 0.3, \"medium\": 0.6, \"high\": 0.9}\n",
    "        numerator = sum(rules[label] * output_values[label] for label in rules)\n",
    "        denominator = sum(rules[label] for label in rules)\n",
    "        return numerator / denominator if denominator != 0 else 0.0\n",
    "\n",
    "    image_fuzzy = fuzzify_confidence(image_score)\n",
    "    gene_fuzzy = fuzzify_confidence(gene_score)\n",
    "    rules = apply_rules(image_fuzzy, gene_fuzzy)\n",
    "    return defuzzify(rules)"
   ]
  },
  {
   "cell_type": "code",
   "execution_count": 5,
   "id": "73daf2a1",
   "metadata": {},
   "outputs": [
    {
     "name": "stdout",
     "output_type": "stream",
     "text": [
      "Enter gene sample index (0 to 86) or 'exit': 1\n",
      "Enter image path or 'exit': C:\\Users\\DELL\\Downloads\\img\\sqamous (1).jpg\n",
      "Prediction output of image : [0.0000000e+00 0.0000000e+00 0.0000000e+00 1.0000000e+00 1.9722471e-13\n",
      " 5.6594748e-20 1.8246418e-29 0.0000000e+00 2.2877663e-22]\n",
      "Prediction output of gene : [9.9899215e-01 5.8270717e-04 1.9329079e-08 1.8687494e-04 2.6739395e-05\n",
      " 1.8480174e-04 2.6805346e-05]\n",
      "Class names: ['actinic keratosis', 'basal cell carcinoma', 'dermatofibroma', 'melanoma', 'nevus', 'pigmented benign keratosis', 'seborrheic keratosis', 'squamous cell carcinoma', 'vascular lesion']\n",
      "maximum from gene prediction : 0.99899215\n",
      "maximum from image prediction : 1.0\n",
      "\n",
      "Gene Prediction: Basal cell carcinoma (Confidence: 1.00)\n",
      "Image Prediction: melanoma (Confidence: 1.00)\n",
      "Fused Confidence Score: 0.00\n",
      "Final Decision: melanoma (Image-Based)\n",
      "Enter gene sample index (0 to 86) or 'exit': exit\n"
     ]
    }
   ],
   "source": [
    "# ---------- Predict and Fuse ----------\n",
    "while True:\n",
    "    try:\n",
    "        gene_idx = input(f\"Enter gene sample index (0 to {X_scaled.shape[0]-1}) or 'exit': \")\n",
    "        if gene_idx.lower() == 'exit':\n",
    "            break\n",
    "        gene_idx = int(gene_idx)\n",
    "        gene_sample = X_scaled[gene_idx:gene_idx+1]\n",
    "        gene_pred = gene_model.predict(gene_sample, verbose=0)[0]\n",
    "        gene_conf = np.max(gene_pred)\n",
    "        gene_label = encoder.inverse_transform([np.argmax(gene_pred)])[0]\n",
    "\n",
    "        img_path = input(\"Enter image path or 'exit': \")\n",
    "        if img_path.lower() == 'exit':\n",
    "            break\n",
    "        img = load_img(img_path, target_size=(128, 128))\n",
    "        img_array = img_to_array(img) / 255.0\n",
    "        img_array = np.expand_dims(img_array, axis=0)\n",
    "        image_pred = image_model.predict(img_array, verbose=0)[0]\n",
    "        image_conf = np.max(image_pred)\n",
    "        print(\"Prediction output of image :\", image_pred)\n",
    "        print(\"Prediction output of gene :\", gene_pred)\n",
    "        print(\"Class names:\", class_names)\n",
    "        print(\"maximum from gene prediction :\", np.max(gene_pred))\n",
    "        print(\"maximum from image prediction :\", np.max(image_pred))\n",
    "\n",
    "        image_label = class_names[np.argmax(image_pred)]\n",
    "\n",
    "        fused_conf = fuzzy_fuse(image_conf, gene_conf)\n",
    "\n",
    "        print(f\"\\nGene Prediction: {gene_label} (Confidence: {gene_conf:.2f})\")\n",
    "        print(f\"Image Prediction: {image_label} (Confidence: {image_conf:.2f})\")\n",
    "        print(f\"Fused Confidence Score: {fused_conf:.2f}\")\n",
    "\n",
    "        if image_conf > gene_conf :\n",
    "            final_decision = image_label\n",
    "            trusted_model = \"image\"\n",
    "        elif gene_conf > image_conf :\n",
    "            final_decision = gene_label\n",
    "            trusted_model = \"Gene\"\n",
    "        else:\n",
    "            final_decision = image_label if fused_conf >= 0.75 else gene_label\n",
    "\n",
    "\n",
    "        if trusted_model == \"image\":\n",
    "            print(f\"Final Decision: {final_decision} (Image-Based)\")\n",
    "        elif trusted_model == \"Gene\":\n",
    "            print(f\"Final Decision: {final_decision} (Gene-Based)\")\n",
    "        else:\n",
    "            print(\"Ambiguous prediction. Consider further validation.\")\n",
    "\n",
    "    except Exception as e:\n",
    "        print(f\"Error: {e}\")\n",
    "        continue"
   ]
  },
  {
   "cell_type": "code",
   "execution_count": 7,
   "id": "4b78b6b8",
   "metadata": {},
   "outputs": [
    {
     "name": "stdout",
     "output_type": "stream",
     "text": [
      "\n",
      "Class: actinic keratosis\n",
      "['ISIC_0025780.jpg', 'ISIC_0025803.jpg', 'ISIC_0025825.jpg', 'ISIC_0025953.jpg', 'ISIC_0025957.jpg']\n",
      "\n",
      "Class: basal cell carcinoma\n",
      "['ISIC_0024504.jpg', 'ISIC_0024515.jpg', 'ISIC_0024550.jpg', 'ISIC_0024564.jpg', 'ISIC_0024572.jpg']\n",
      "\n",
      "Class: dermatofibroma\n",
      "['ISIC_0025223.jpg', 'ISIC_0025302.jpg', 'ISIC_0025314.jpg', 'ISIC_0025373.jpg', 'ISIC_0025504.jpg']\n",
      "\n",
      "Class: melanoma\n",
      "['ISIC_0000139.jpg', 'ISIC_0000141.jpg', 'ISIC_0000142.jpg', 'ISIC_0000143.jpg', 'ISIC_0000144.jpg']\n",
      "\n",
      "Class: nevus\n",
      "['ISIC_0000019.jpg', 'ISIC_0000020.jpg', 'ISIC_0000021.jpg', 'ISIC_0000023.jpg', 'ISIC_0000024.jpg']\n",
      "\n",
      "Class: pigmented benign keratosis\n",
      "['ISIC_0024435.jpg', 'ISIC_0024445.jpg', 'ISIC_0024446.jpg', 'ISIC_0024453.jpg', 'ISIC_0024471.jpg']\n",
      "\n",
      "Class: seborrheic keratosis\n",
      "['ISIC_0010810.jpg', 'ISIC_0010812.jpg', 'ISIC_0010834.jpg', 'ISIC_0010852.jpg', 'ISIC_0010860.jpg']\n",
      "\n",
      "Class: squamous cell carcinoma\n",
      "['ISIC_0024710.jpg', 'ISIC_0024843.jpg', 'ISIC_0024923.jpg', 'ISIC_0024925.jpg', 'ISIC_0024946.jpg']\n",
      "\n",
      "Class: vascular lesion\n",
      "['ISIC_0024475.jpg', 'ISIC_0024662.jpg', 'ISIC_0024669.jpg', 'ISIC_0024706.jpg', 'ISIC_0024747.jpg']\n"
     ]
    }
   ],
   "source": [
    "for class_name in class_names:\n",
    "    class_path = os.path.join(train_dir, class_name)\n",
    "    print(f\"\\nClass: {class_name}\")\n",
    "    print(os.listdir(class_path)[:5])  # Print first 5 filenames\n"
   ]
  },
  {
   "cell_type": "code",
   "execution_count": 29,
   "id": "1888e13d",
   "metadata": {},
   "outputs": [
    {
     "name": "stdout",
     "output_type": "stream",
     "text": [
      "Available image files: ['actinic keratosis', 'basal cell carcinoma', 'dermatofibroma', 'melanoma', 'nevus', 'pigmented benign keratosis', 'seborrheic keratosis', 'squamous cell carcinoma', 'vascular lesion']\n"
     ]
    }
   ],
   "source": [
    "import os\n",
    "\n",
    "image_folder = \"C:\\\\Users\\\\DELL\\\\Downloads\\\\Skin cancer ISIC The International Skin Imaging Collaboration\\\\Train\"\n",
    "\n",
    "available_images = os.listdir(image_folder)\n",
    "\n",
    "# List first 10 .npy image files\n",
    "print(\"Available image files:\", available_images[:10])\n"
   ]
  },
  {
   "cell_type": "code",
   "execution_count": 33,
   "id": "a5d48827",
   "metadata": {},
   "outputs": [
    {
     "name": "stdout",
     "output_type": "stream",
     "text": [
      "Column names in your Excel file:\n",
      "['!Sample_characteristics_ch1', 'Basal cell carcinoma', 'Basal cell carcinoma.1', 'Basal cell carcinoma.2', 'Basal cell carcinoma.3', 'Melanoma in situ', 'Melanoma in situ.1', 'Primary Melanoma', 'Primary Melanoma.1', 'Metastatic Melanoma', 'Metastatic Melanoma.1', 'Metastatic Melanoma.2', 'Metastatic Melanoma.3', 'Metastatic Melanoma.4', 'Metastatic Melanoma.5', 'Metastatic Melanoma.6', 'Metastatic Melanoma.7', 'Normal Skin', 'Primary Melanoma.2', 'Squamous cell carcinoma', 'Squamous cell carcinoma.1', 'Squamous cell carcinoma.2', 'Squamous cell carcinoma.3', 'Squamous cell carcinoma.4', 'Basal cell carcinoma.4', 'Basal cell carcinoma.5', 'Basal cell carcinoma.6', 'Basal cell carcinoma.7', 'Basal cell carcinoma.8', 'Basal cell carcinoma.9', 'Basal cell carcinoma.10', 'Basal cell carcinoma.11', 'Basal cell carcinoma.12', 'Basal cell carcinoma.13', 'Basal cell carcinoma.14', 'Metastatic Melanoma.8', 'Metastatic Melanoma.9', 'Metastatic Melanoma.10', 'Metastatic Melanoma.11', 'Metastatic Melanoma.12', 'Metastatic Melanoma.13', 'Primary Melanoma.3', 'Primary Melanoma.4', 'Primary Melanoma.5', 'Primary Melanoma.6', 'Primary Melanoma.7', 'Primary Melanoma.8', 'Primary Melanoma.9', 'Primary Melanoma.10', 'Primary Melanoma.11', 'Squamous cell carcinoma.5', 'Squamous cell carcinoma.6', 'Squamous cell carcinoma.7', 'Squamous cell carcinoma.8', 'Squamous cell carcinoma.9', 'Squamous cell carcinoma.10', 'Metastatic Melanoma.14', 'Metastatic Melanoma.15', 'Metastatic Melanoma.16', 'Metastatic Melanoma.17', 'Metastatic Melanoma.18', 'Metastatic Melanoma.19', 'Metastatic Melanoma.20', 'Metastatic Melanoma.21', 'Metastatic Melanoma.22', 'Metastatic Melanoma.23', 'Metastatic Melanoma.24', 'Metastatic Melanoma.25', 'Metastatic Melanoma.26', 'Metastatic Melanoma.27', 'Metastatic Melanoma.28', 'Metastatic Melanoma.29', 'Metastatic Melanoma.30', 'Metastatic Melanoma.31', 'Metastatic Melanoma.32', 'Metastatic Melanoma.33', 'Metastatic Melanoma.34', 'Metastatic Melanoma.35', 'Metastatic Melanoma.36', 'Metastatic Melanoma.37', 'Metastatic Melanoma.38', 'Metastatic Melanoma.39', 'normal human epidermal melanocytes', 'Normal Skin.1', 'Normal Skin.2', 'Normal Skin.3', 'Primary Melanoma.12', 'Primary Melanoma.13']\n"
     ]
    }
   ],
   "source": [
    "print(\"Column names in your Excel file:\")\n",
    "print(gene_data.columns.tolist())\n"
   ]
  },
  {
   "cell_type": "code",
   "execution_count": 39,
   "id": "1d1f10a7",
   "metadata": {},
   "outputs": [
    {
     "name": "stdout",
     "output_type": "stream",
     "text": [
      "✅ Gene data shape: (87, 54677)\n",
      "!Sample_characteristics_ch1             sample_name                 label\n",
      "0                              Basal cell carcinoma  Basal cell carcinoma\n",
      "1                            Basal cell carcinoma.1  Basal cell carcinoma\n",
      "2                            Basal cell carcinoma.2  Basal cell carcinoma\n",
      "3                            Basal cell carcinoma.3  Basal cell carcinoma\n",
      "4                                  Melanoma in situ      Melanoma in situ\n"
     ]
    }
   ],
   "source": [
    "import pandas as pd\n",
    "import numpy as np\n",
    "\n",
    "# ---------------- Load Gene Data ---------------- #\n",
    "gene_data = pd.read_excel(\"C:\\\\Users\\\\DELL\\\\Downloads\\\\GSE7553.XLSX\", sheet_name=\"Sheet1\")\n",
    "\n",
    "# Step 1: Set the first column (gene names) as the index\n",
    "gene_data = gene_data.set_index(gene_data.columns[0])\n",
    "\n",
    "# Step 2: Transpose so that samples become rows\n",
    "gene_data = gene_data.transpose()\n",
    "\n",
    "# Step 3: Reset index to make sample names a column\n",
    "gene_data = gene_data.reset_index()\n",
    "gene_data = gene_data.rename(columns={'index': 'sample_name'})\n",
    "\n",
    "# Step 4: Extract label (cancer type) from sample_name\n",
    "gene_data['label'] = gene_data['sample_name'].apply(lambda x: x.split('.')[0].strip())\n",
    "\n",
    "# Step 5: Strip any extra whitespace from all string fields\n",
    "gene_data['sample_name'] = gene_data['sample_name'].astype(str).str.strip()\n",
    "gene_data['label'] = gene_data['label'].astype(str).str.strip()\n",
    "gene_data.columns = gene_data.columns.str.strip()\n",
    "\n",
    "# Optional: Check the structure\n",
    "print(\"✅ Gene data shape:\", gene_data.shape)\n",
    "print(gene_data[['sample_name', 'label']].head())\n",
    "\n",
    "# Step 6: Extract features and labels (if needed for model)\n",
    "gene_features = gene_data.drop(columns=['sample_name', 'label']).astype(float).values\n",
    "gene_labels = gene_data['label'].values\n",
    "sample_names = gene_data['sample_name'].values\n"
   ]
  },
  {
   "cell_type": "code",
   "execution_count": 45,
   "id": "204b804c",
   "metadata": {},
   "outputs": [
    {
     "name": "stdout",
     "output_type": "stream",
     "text": [
      "✅ Gene data loaded: (54675, 88)\n",
      "✅ Image data collected: (2239, 3)\n",
      "✅ Final matched shape: (54675, 90)\n",
      "  sample_name    label image_name\n",
      "0   1007_s_at  3386.88        NaN\n",
      "1     1053_at  1053.86        NaN\n",
      "2      117_at  417.216        NaN\n",
      "3      121_at  854.209        NaN\n",
      "4   1255_g_at  61.7639        NaN\n"
     ]
    }
   ],
   "source": [
    "import os\n",
    "import pandas as pd\n",
    "\n",
    "# Load gene data\n",
    "gene_data = pd.read_excel(r\"C:\\Users\\DELL\\Downloads\\GSE7553.XLSX\")\n",
    "gene_data.columns = gene_data.columns.str.strip()\n",
    "\n",
    "# Rename appropriately\n",
    "gene_data = gene_data.rename(columns={\n",
    "    gene_data.columns[0]: \"sample_name\",\n",
    "    gene_data.columns[1]: \"label\"\n",
    "})\n",
    "\n",
    "# Clean text\n",
    "gene_data['sample_name'] = gene_data['sample_name'].astype(str).str.strip().str.lower()\n",
    "gene_data['label'] = gene_data['label'].astype(str).str.strip().str.lower()\n",
    "\n",
    "print(\"✅ Gene data loaded:\", gene_data.shape)\n",
    "\n",
    "# Load image paths\n",
    "image_folder = r\"C:\\Users\\DELL\\Downloads\\Skin cancer ISIC The International Skin Imaging Collaboration\\Train\"\n",
    "image_records = []\n",
    "\n",
    "for label_folder in os.listdir(image_folder):\n",
    "    folder_path = os.path.join(image_folder, label_folder)\n",
    "    if os.path.isdir(folder_path):\n",
    "        for file in os.listdir(folder_path):\n",
    "            if file.lower().endswith('.jpg'):\n",
    "                image_name = os.path.splitext(file)[0].strip().lower()\n",
    "                image_records.append({\n",
    "                    'image_name': image_name,\n",
    "                    'label': label_folder.strip().lower(),\n",
    "                    'image_path': os.path.join(folder_path, file)\n",
    "                })\n",
    "\n",
    "image_df = pd.DataFrame(image_records)\n",
    "print(\"✅ Image data collected:\", image_df.shape)\n",
    "\n",
    "# Merge by label\n",
    "merged_df = pd.merge(gene_data, image_df, on=\"label\", how=\"left\")\n",
    "\n",
    "# One image per gene sample\n",
    "final_df = merged_df.groupby(\"sample_name\").apply(lambda x: x.sample(1, random_state=42)).reset_index(drop=True)\n",
    "\n",
    "print(\"✅ Final matched shape:\", final_df.shape)\n",
    "print(final_df[['sample_name', 'label', 'image_name']].head())\n",
    "\n",
    "# Save if needed\n",
    "# final_df.to_csv(\"gene_image_matched.csv\", index=False)\n"
   ]
  },
  {
   "cell_type": "code",
   "execution_count": 35,
   "id": "f3e5e7b7",
   "metadata": {},
   "outputs": [
    {
     "name": "stdout",
     "output_type": "stream",
     "text": [
      "✅ Matched samples: 0 / 87\n"
     ]
    }
   ],
   "source": [
    "import os\n",
    "\n",
    "# Path to your image folder\n",
    "image_folder = r\"C:\\Users\\DELL\\Downloads\\Skin cancer ISIC The International Skin Imaging Collaboration\\Train\"\n",
    "\n",
    "# List all image files\n",
    "image_files = [f for f in os.listdir(image_folder) if f.endswith(\".jpg\")]\n",
    "\n",
    "# Strip '.jpg' to get base names for matching\n",
    "image_names = [os.path.splitext(f)[0].strip() for f in image_files]\n",
    "\n",
    "# Filter gene data for only samples that have matching image files\n",
    "matched_gene_data = gene_data[gene_data['sample_name'].isin(image_names)]\n",
    "\n",
    "# Get list of matched image paths in the same order\n",
    "matched_images = [\n",
    "    os.path.join(image_folder, f\"{name}.jpg\") for name in matched_gene_data['sample_name']\n",
    "]\n",
    "\n",
    "print(f\"✅ Matched samples: {len(matched_gene_data)} / {len(gene_data)}\")\n"
   ]
  },
  {
   "cell_type": "code",
   "execution_count": 36,
   "id": "c4f98183",
   "metadata": {},
   "outputs": [
    {
     "name": "stdout",
     "output_type": "stream",
     "text": [
      "Sample names from gene data:\n",
      "['Basal cell carcinoma', 'Basal cell carcinoma.1', 'Basal cell carcinoma.2', 'Basal cell carcinoma.3', 'Melanoma in situ', 'Melanoma in situ.1', 'Primary Melanoma', 'Primary Melanoma.1', 'Metastatic Melanoma', 'Metastatic Melanoma.1']\n",
      "\n",
      "Image base filenames from folder:\n",
      "[]\n"
     ]
    }
   ],
   "source": [
    "# Check sample names from gene data\n",
    "print(\"Sample names from gene data:\")\n",
    "print(gene_data['sample_name'].head(10).tolist())\n",
    "\n",
    "# Check image base names (without .jpg)\n",
    "print(\"\\nImage base filenames from folder:\")\n",
    "print(image_names[:10])\n"
   ]
  },
  {
   "cell_type": "code",
   "execution_count": 37,
   "id": "ea5918ca",
   "metadata": {},
   "outputs": [
    {
     "name": "stdout",
     "output_type": "stream",
     "text": [
      "✅ Image data collected: (2239, 2)\n",
      "✅ Merged data shape: (7631, 54678)\n"
     ]
    }
   ],
   "source": [
    "import os\n",
    "import pandas as pd\n",
    "\n",
    "# 1. Get all images with folder names as labels\n",
    "image_folder = r\"C:\\Users\\DELL\\Downloads\\Skin cancer ISIC The International Skin Imaging Collaboration\\Train\"\n",
    "\n",
    "image_records = []\n",
    "for label_folder in os.listdir(image_folder):\n",
    "    full_folder_path = os.path.join(image_folder, label_folder)\n",
    "    if os.path.isdir(full_folder_path):\n",
    "        for file in os.listdir(full_folder_path):\n",
    "            if file.lower().endswith(\".jpg\"):\n",
    "                image_name = os.path.splitext(file)[0].strip()\n",
    "                image_records.append({\n",
    "                    'image_name': image_name,\n",
    "                    'label': label_folder.strip().lower()\n",
    "                })\n",
    "\n",
    "image_df = pd.DataFrame(image_records)\n",
    "print(\"✅ Image data collected:\", image_df.shape)\n",
    "\n",
    "# 2. Clean gene data column names\n",
    "gene_data.columns = gene_data.columns.str.strip()\n",
    "gene_data = gene_data.rename(columns={gene_data.columns[0]: \"sample_name\"})  # Rename the first column\n",
    "gene_data['sample_name'] = gene_data['sample_name'].astype(str).str.strip().str.lower()\n",
    "gene_data['label'] = gene_data['label'].astype(str).str.strip().str.lower()\n",
    "\n",
    "# 3. Merge on label (if sample_name is not the image name)\n",
    "merged = pd.merge(gene_data, image_df, on=\"label\", how=\"inner\")\n",
    "print(\"✅ Merged data shape:\", merged.shape)\n"
   ]
  },
  {
   "cell_type": "code",
   "execution_count": 30,
   "id": "c643e3a1",
   "metadata": {},
   "outputs": [
    {
     "name": "stdout",
     "output_type": "stream",
     "text": [
      "['Basal cell carcinoma', 'Basal cell carcinoma.1', 'Basal cell carcinoma.2', 'Basal cell carcinoma.3', 'Melanoma in situ', 'Melanoma in situ.1', 'Primary Melanoma', 'Primary Melanoma.1', 'Metastatic Melanoma', 'Metastatic Melanoma.1']\n"
     ]
    }
   ],
   "source": [
    "print(gene_samples[:10])  # should print sample IDs like 'GSM176515'\n"
   ]
  },
  {
   "cell_type": "code",
   "execution_count": 23,
   "id": "1afcecb6",
   "metadata": {},
   "outputs": [
    {
     "name": "stdout",
     "output_type": "stream",
     "text": [
      "['!Sample_characteristics_ch1', 'Basal cell carcinoma', 'Basal cell carcinoma.1', 'Basal cell carcinoma.2', 'Basal cell carcinoma.3', 'Melanoma in situ', 'Melanoma in situ.1', 'Primary Melanoma', 'Primary Melanoma.1', 'Metastatic Melanoma', 'Metastatic Melanoma.1', 'Metastatic Melanoma.2', 'Metastatic Melanoma.3', 'Metastatic Melanoma.4', 'Metastatic Melanoma.5', 'Metastatic Melanoma.6', 'Metastatic Melanoma.7', 'Normal Skin', 'Primary Melanoma.2', 'Squamous cell carcinoma', 'Squamous cell carcinoma.1', 'Squamous cell carcinoma.2', 'Squamous cell carcinoma.3', 'Squamous cell carcinoma.4', 'Basal cell carcinoma.4', 'Basal cell carcinoma.5', 'Basal cell carcinoma.6', 'Basal cell carcinoma.7', 'Basal cell carcinoma.8', 'Basal cell carcinoma.9', 'Basal cell carcinoma.10', 'Basal cell carcinoma.11', 'Basal cell carcinoma.12', 'Basal cell carcinoma.13', 'Basal cell carcinoma.14', 'Metastatic Melanoma.8', 'Metastatic Melanoma.9', 'Metastatic Melanoma.10', 'Metastatic Melanoma.11', 'Metastatic Melanoma.12', 'Metastatic Melanoma.13', 'Primary Melanoma.3', 'Primary Melanoma.4', 'Primary Melanoma.5', 'Primary Melanoma.6', 'Primary Melanoma.7', 'Primary Melanoma.8', 'Primary Melanoma.9', 'Primary Melanoma.10', 'Primary Melanoma.11', 'Squamous cell carcinoma.5', 'Squamous cell carcinoma.6', 'Squamous cell carcinoma.7', 'Squamous cell carcinoma.8', 'Squamous cell carcinoma.9', 'Squamous cell carcinoma.10', 'Metastatic Melanoma.14', 'Metastatic Melanoma.15', 'Metastatic Melanoma.16', 'Metastatic Melanoma.17', 'Metastatic Melanoma.18', 'Metastatic Melanoma.19', 'Metastatic Melanoma.20', 'Metastatic Melanoma.21', 'Metastatic Melanoma.22', 'Metastatic Melanoma.23', 'Metastatic Melanoma.24', 'Metastatic Melanoma.25', 'Metastatic Melanoma.26', 'Metastatic Melanoma.27', 'Metastatic Melanoma.28', 'Metastatic Melanoma.29', 'Metastatic Melanoma.30', 'Metastatic Melanoma.31', 'Metastatic Melanoma.32', 'Metastatic Melanoma.33', 'Metastatic Melanoma.34', 'Metastatic Melanoma.35', 'Metastatic Melanoma.36', 'Metastatic Melanoma.37', 'Metastatic Melanoma.38', 'Metastatic Melanoma.39', 'normal human epidermal melanocytes', 'Normal Skin.1', 'Normal Skin.2', 'Normal Skin.3', 'Primary Melanoma.12', 'Primary Melanoma.13']\n"
     ]
    }
   ],
   "source": [
    "print(gene_data.columns.tolist())"
   ]
  },
  {
   "cell_type": "code",
   "execution_count": 19,
   "id": "c172b8c0",
   "metadata": {},
   "outputs": [
    {
     "name": "stdout",
     "output_type": "stream",
     "text": [
      "['Sheet1']\n"
     ]
    }
   ],
   "source": [
    "xls = pd.ExcelFile('C:\\\\Users\\\\DELL\\\\Downloads\\\\GSE7553.XLSX')\n",
    "print(xls.sheet_names)"
   ]
  },
  {
   "cell_type": "code",
   "execution_count": 13,
   "id": "8b620951",
   "metadata": {},
   "outputs": [
    {
     "name": "stdout",
     "output_type": "stream",
     "text": [
      "Index(['Basal cell carcinoma', 'Basal cell carcinoma.1',\n",
      "       'Basal cell carcinoma.2', 'Basal cell carcinoma.3', 'Melanoma in situ'],\n",
      "      dtype='object')\n"
     ]
    }
   ],
   "source": [
    "print(df_raw.columns[:5])\n"
   ]
  },
  {
   "cell_type": "code",
   "execution_count": 14,
   "id": "b9d263e6",
   "metadata": {},
   "outputs": [
    {
     "name": "stdout",
     "output_type": "stream",
     "text": [
      "['ISIC_0000139.jpg', 'ISIC_0000141.jpg', 'ISIC_0000142.jpg', 'ISIC_0000143.jpg', 'ISIC_0000144.jpg']\n"
     ]
    }
   ],
   "source": [
    "import os\n",
    "melanoma_dir = os.path.join(train_dir, \"melanoma\")\n",
    "print(os.listdir(melanoma_dir)[:5])\n"
   ]
  },
  {
   "cell_type": "code",
   "execution_count": 52,
   "id": "c761e5bb",
   "metadata": {},
   "outputs": [
    {
     "name": "stdout",
     "output_type": "stream",
     "text": [
      "Class names from folder structure: ['actinic keratosis', 'basal cell carcinoma', 'dermatofibroma', 'melanoma', 'nevus', 'pigmented benign keratosis', 'seborrheic keratosis', 'squamous cell carcinoma', 'vascular lesion']\n"
     ]
    }
   ],
   "source": [
    "print(\"Class names from folder structure:\", class_names)\n"
   ]
  },
  {
   "cell_type": "code",
   "execution_count": null,
   "id": "fc830e87",
   "metadata": {},
   "outputs": [],
   "source": []
  }
 ],
 "metadata": {
  "kernelspec": {
   "display_name": "Python 3 (ipykernel)",
   "language": "python",
   "name": "python3"
  },
  "language_info": {
   "codemirror_mode": {
    "name": "ipython",
    "version": 3
   },
   "file_extension": ".py",
   "mimetype": "text/x-python",
   "name": "python",
   "nbconvert_exporter": "python",
   "pygments_lexer": "ipython3",
   "version": "3.9.13"
  }
 },
 "nbformat": 4,
 "nbformat_minor": 5
}
